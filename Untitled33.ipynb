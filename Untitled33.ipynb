{
 "cells": [
  {
   "cell_type": "markdown",
   "id": "cb84a0b7-0f3e-41ce-a802-d48388dbce2c",
   "metadata": {},
   "source": [
    "## Q1: What is the difference between a t-test and a z-test? Provide an example scenario where you would\n",
    "use each type of test."
   ]
  },
  {
   "cell_type": "code",
   "execution_count": null,
   "id": "5aba06fc-81a9-4d71-9697-9c9d5599dd2d",
   "metadata": {},
   "outputs": [],
   "source": [
    "Z-test:\n",
    "A z-test is used when the population standard deviation is known.\n",
    "It is typically employed for large sample sizes (usually when the sample size is greater than 30).\n",
    "The z-test statistic follows the standard normal distribution (z-distribution).\n",
    "It is more appropriate when the sample size is large because the standard normal distribution approximates the sampling distribution of the sample mean.\n",
    "Example Scenario for Z-test:\n",
    "Suppose a researcher wants to determine whether the average IQ of a population is significantly different from the national average IQ of 100. The researcher has access to a large dataset containing IQ scores from a random sample of 500 individuals with known population standard deviation of 15. In this scenario, the researcher can use a z-test to compare the sample mean IQ to the population mean of 100.\n",
    "\n",
    "T-test:\n",
    "A t-test is used when the population standard deviation is unknown and must be estimated from the sample.\n",
    "It is typically employed for small sample sizes (usually when the sample size is less than 30).\n",
    "The t-test statistic follows the Student's t-distribution.\n",
    "It is more appropriate when the sample size is small because the t-distribution accounts for the uncertainty introduced by estimating the population standard deviation from the sample.\n",
    "Example Scenario for T-test:\n",
    "Consider a scenario where a pharmaceutical company develops a new drug to reduce blood pressure. The company conducts a clinical trial with a small sample of 20 participants to test the effectiveness of the drug. They measure the participants' blood pressure before and after administering the drug and want to determine if there is a statistically significant difference in blood pressure levels. Since the sample size is small and the population standard deviation is unknown, a t-test would be appropriate for comparing the mean blood pressure before and after treatment.\n",
    "\n",
    "In summary, the choice between a t-test and a z-test depends on the sample size and whether the population standard deviation is known. Use a z-test for large sample sizes with known population standard deviation, and use a t-test for small sample sizes or when the population standard deviation is unknown."
   ]
  },
  {
   "cell_type": "markdown",
   "id": "15bcff48-1562-49e7-a051-036c8b991476",
   "metadata": {},
   "source": [
    "## Q2: Differentiate between one-tailed and two-tailed tests."
   ]
  },
  {
   "cell_type": "code",
   "execution_count": null,
   "id": "abcb5fc3-587c-448f-86ac-3d22637fd70d",
   "metadata": {},
   "outputs": [],
   "source": []
  }
 ],
 "metadata": {
  "kernelspec": {
   "display_name": "Python 3 (ipykernel)",
   "language": "python",
   "name": "python3"
  },
  "language_info": {
   "codemirror_mode": {
    "name": "ipython",
    "version": 3
   },
   "file_extension": ".py",
   "mimetype": "text/x-python",
   "name": "python",
   "nbconvert_exporter": "python",
   "pygments_lexer": "ipython3",
   "version": "3.10.8"
  }
 },
 "nbformat": 4,
 "nbformat_minor": 5
}
